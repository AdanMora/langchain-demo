{
 "cells": [
  {
   "cell_type": "markdown",
   "id": "092ad84b",
   "metadata": {},
   "source": []
  },
  {
   "cell_type": "code",
   "execution_count": null,
   "id": "db91d55d",
   "metadata": {},
   "outputs": [],
   "source": [
    "import os\n",
    "OPENAI_API_KEY=\"your_openai_api_key_here\"\n",
    "\n",
    "os.environ[\"OPENAI_API_KEY\"] = OPENAI_API_KEY"
   ]
  },
  {
   "cell_type": "code",
   "execution_count": null,
   "id": "35c21aff",
   "metadata": {},
   "outputs": [],
   "source": [
    "from langchain.llms import OpenAI\n",
    "\n",
    "llm = OpenAI(temperature=0.6)\n",
    "name = llm(\"I want to open a restaurant for Italian food. Suggest a fency name for this.\")\n",
    "print(name)"
   ]
  },
  {
   "cell_type": "code",
   "execution_count": null,
   "id": "da09a1a5",
   "metadata": {},
   "outputs": [],
   "source": [
    "from langchain.prompts import PromptTemplate\n",
    "\n",
    "prompt_template_name = PromptTemplate(\n",
    "    input_variable = [\"cuisine\"],\n",
    "    template = \"I want to open a restaurant for {cuisine} food. Suggest a fency name for this.\"\n",
    ")\n",
    "\n",
    "prompt_template_name.format(cuisine=\"Italian\")"
   ]
  },
  {
   "cell_type": "code",
   "execution_count": null,
   "id": "b73ef2ca",
   "metadata": {},
   "outputs": [],
   "source": [
    "from langchain.chains import LLMChain\n",
    "\n",
    "name_chain = LLMChain(llm=llm, prompt=prompt_template_name, output_key=\"restaurant_name\")\n",
    "name_chain.run(\"American\")"
   ]
  },
  {
   "cell_type": "code",
   "execution_count": null,
   "id": "b328637f",
   "metadata": {},
   "outputs": [],
   "source": [
    "prompt_template_items = PromptTemplate(\n",
    "    input_variable = [\"restaurant_name\"],\n",
    "    template = \"Suggest some menu items for {restaurant_name}. Return it as list sepparate by comma.\"\n",
    ")\n",
    "\n",
    "food_items_chain = LLMChain(llm=llm, prompt=prompt_template_items, output_key=\"menu_items\")\n",
    "food_items_chain.run(\"Mexican\")"
   ]
  },
  {
   "cell_type": "code",
   "execution_count": null,
   "id": "1d36d66e",
   "metadata": {},
   "outputs": [],
   "source": [
    "from langchain.chains import SimpleSequentialChain\n",
    "\n",
    "chain = SimpleSequentialChain(chains=[name_chain, food_items_chain])\n",
    "chain.run(\"Japanesse\")"
   ]
  },
  {
   "cell_type": "code",
   "execution_count": null,
   "id": "1f7beef8",
   "metadata": {},
   "outputs": [],
   "source": [
    "from langchain.chains import SequentialChain\n",
    "\n",
    "chain = SequentialChain(\n",
    "    chains=[name_chain, food_items_chain],\n",
    "    input_variables=[\"cuisine\"],\n",
    "    output_variables=[\"restaurant_name\", \"menu_items\"]\n",
    ")\n",
    "\n",
    "chain({\"cuisine\": \"Arabic\"})"
   ]
  },
  {
   "cell_type": "markdown",
   "id": "b9d059bc",
   "metadata": {},
   "source": [
    "## AGENTS"
   ]
  },
  {
   "cell_type": "code",
   "execution_count": null,
   "id": "5fc8e625",
   "metadata": {},
   "outputs": [],
   "source": [
    "from langchain_core.tools import tool"
   ]
  },
  {
   "cell_type": "code",
   "execution_count": null,
   "id": "85728e79",
   "metadata": {},
   "outputs": [],
   "source": [
    "from langchain.agents import AgentType, initialize_agent, load_tools\n",
    "\n",
    "tools = load_tools([\"wikipedia\", \"llm-math\"], llm=llm)\n",
    "\n",
    "agent = initialize_agent(\n",
    "    tools,\n",
    "    llm,\n",
    "    agent=AgentType.ZERO_SHOT_REACT_DESCRIPTION,\n",
    "    # verbose=True\n",
    ")\n",
    "\n",
    "agent.run(\"When was Albert Einstein born? What would be his age right now in 2026?\")"
   ]
  },
  {
   "cell_type": "markdown",
   "id": "e050df16",
   "metadata": {},
   "source": [
    "## Memory"
   ]
  },
  {
   "cell_type": "code",
   "execution_count": null,
   "id": "24be6020",
   "metadata": {},
   "outputs": [],
   "source": [
    "dir(chain)"
   ]
  },
  {
   "cell_type": "code",
   "execution_count": null,
   "id": "3f4ceb2c",
   "metadata": {},
   "outputs": [],
   "source": [
    "type(chain.memory)"
   ]
  },
  {
   "cell_type": "code",
   "execution_count": null,
   "id": "50b3961f",
   "metadata": {},
   "outputs": [],
   "source": [
    "from langchain.memory import ConversationBufferMemory\n",
    "\n",
    "memory = ConversationBufferMemory()\n",
    "\n",
    "name_chain = LLMChain(llm=llm, prompt=prompt_template_name, memory=memory)\n",
    "name = name_chain.run(\"French\")\n",
    "print(name)"
   ]
  },
  {
   "cell_type": "code",
   "execution_count": null,
   "id": "7d121aba",
   "metadata": {},
   "outputs": [],
   "source": [
    "name_chain.memory"
   ]
  },
  {
   "cell_type": "code",
   "execution_count": null,
   "id": "9598116f",
   "metadata": {},
   "outputs": [],
   "source": [
    "print(name_chain.memory.buffer)"
   ]
  },
  {
   "cell_type": "code",
   "execution_count": null,
   "id": "ba2e65a0",
   "metadata": {},
   "outputs": [],
   "source": [
    "from langchain.chains import ConversationChain\n",
    "\n",
    "convo = ConversationChain(llm=llm)\n",
    "print(convo.prompt.template)"
   ]
  },
  {
   "cell_type": "code",
   "execution_count": null,
   "id": "c782379c",
   "metadata": {},
   "outputs": [],
   "source": [
    "convo.run(\"Who won the last Lacrosse tournament?\")"
   ]
  },
  {
   "cell_type": "code",
   "execution_count": null,
   "id": "8992f405",
   "metadata": {},
   "outputs": [],
   "source": [
    "convo.run(\"What is 5+5?\")"
   ]
  },
  {
   "cell_type": "code",
   "execution_count": null,
   "id": "87de9188",
   "metadata": {},
   "outputs": [],
   "source": [
    "convo.run(\"Who was the captain of the winning team?\")"
   ]
  },
  {
   "cell_type": "code",
   "execution_count": null,
   "id": "a0f04a03",
   "metadata": {},
   "outputs": [],
   "source": [
    "convo.memory.buffer"
   ]
  },
  {
   "cell_type": "markdown",
   "id": "9094cf10",
   "metadata": {},
   "source": []
  }
 ],
 "metadata": {
  "kernelspec": {
   "display_name": "venv",
   "language": "python",
   "name": "python3"
  },
  "language_info": {
   "codemirror_mode": {
    "name": "ipython",
    "version": 3
   },
   "file_extension": ".py",
   "mimetype": "text/x-python",
   "name": "python",
   "nbconvert_exporter": "python",
   "pygments_lexer": "ipython3",
   "version": "3.12.9"
  }
 },
 "nbformat": 4,
 "nbformat_minor": 5
}
